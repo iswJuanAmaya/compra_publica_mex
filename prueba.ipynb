{
 "cells": [
  {
   "cell_type": "code",
   "execution_count": 2,
   "metadata": {},
   "outputs": [],
   "source": [
    "import pandas as pd\n",
    "import seaborn as sns\n",
    "import matplotlib.pyplot as plt"
   ]
  },
  {
   "cell_type": "code",
   "execution_count": 3,
   "metadata": {},
   "outputs": [],
   "source": [
    "BASE_PATH = 'expedientes/'"
   ]
  },
  {
   "cell_type": "code",
   "execution_count": 4,
   "metadata": {},
   "outputs": [],
   "source": [
    "expts_10 = pd.read_csv(BASE_PATH+'ExpedientesPublicados2010.csv', encoding=\"ISO-8859-1\")"
   ]
  },
  {
   "cell_type": "code",
   "execution_count": 39,
   "metadata": {},
   "outputs": [],
   "source": [
    "expts_11 = pd.read_csv(BASE_PATH+'ExpedientesPublicados2011.csv', encoding=\"ISO-8859-1\")"
   ]
  },
  {
   "cell_type": "code",
   "execution_count": null,
   "metadata": {},
   "outputs": [],
   "source": [
    "expts_12 = pd.read_csv(BASE_PATH+'ExpedientesPublicados2012.csv', encoding=\"ISO-8859-1\")"
   ]
  },
  {
   "cell_type": "code",
   "execution_count": null,
   "metadata": {},
   "outputs": [],
   "source": [
    "expts_13 = pd.read_csv(BASE_PATH+'ExpedientesPublicados2013.csv', encoding=\"ISO-8859-1\")"
   ]
  },
  {
   "cell_type": "code",
   "execution_count": null,
   "metadata": {},
   "outputs": [],
   "source": [
    "expts_14 = pd.read_csv(BASE_PATH+'ExpedientesPublicados2014.csv', encoding=\"ISO-8859-1\")"
   ]
  },
  {
   "cell_type": "code",
   "execution_count": null,
   "metadata": {},
   "outputs": [],
   "source": [
    "expts_15 = pd.read_csv(BASE_PATH+'ExpedientesPublicados2015.csv', encoding=\"ISO-8859-1\")"
   ]
  },
  {
   "cell_type": "code",
   "execution_count": null,
   "metadata": {},
   "outputs": [],
   "source": [
    "expts_16 = pd.read_csv(BASE_PATH+'ExpedientesPublicados2016.csv', encoding=\"ISO-8859-1\")"
   ]
  },
  {
   "cell_type": "code",
   "execution_count": null,
   "metadata": {},
   "outputs": [],
   "source": [
    "expts_17 = pd.read_csv(BASE_PATH+'ExpedientesPublicados2017.csv', encoding=\"ISO-8859-1\")"
   ]
  },
  {
   "cell_type": "code",
   "execution_count": 9,
   "metadata": {},
   "outputs": [
    {
     "name": "stderr",
     "output_type": "stream",
     "text": [
      "c:\\Users\\juan-\\Desktop\\compra_publica_2010_2022\\env\\lib\\site-packages\\openpyxl\\styles\\stylesheet.py:226: UserWarning: Workbook contains no default style, apply openpyxl's default\n",
      "  warn(\"Workbook contains no default style, apply openpyxl's default\")\n"
     ]
    }
   ],
   "source": [
    "expts_18 = pd.read_excel(BASE_PATH+'ExpedientesPublicados2018.xlsx')"
   ]
  },
  {
   "cell_type": "code",
   "execution_count": null,
   "metadata": {},
   "outputs": [],
   "source": []
  },
  {
   "cell_type": "code",
   "execution_count": null,
   "metadata": {},
   "outputs": [],
   "source": [
    "expts_19 = pd.read_csv(BASE_PATH+'ExpedientesPublicados2019.xlsx', encoding=\"ISO-8859-1\")"
   ]
  },
  {
   "cell_type": "code",
   "execution_count": null,
   "metadata": {},
   "outputs": [],
   "source": [
    "expts_20 = pd.read_csv(BASE_PATH+'ExpedientesPublicados2020.xlsx', encoding=\"ISO-8859-1\")"
   ]
  },
  {
   "cell_type": "code",
   "execution_count": null,
   "metadata": {},
   "outputs": [],
   "source": [
    "expts_21 = pd.read_csv(BASE_PATH+'ExpedientesPublicados2021.xlsx', encoding=\"ISO-8859-1\")"
   ]
  },
  {
   "cell_type": "code",
   "execution_count": null,
   "metadata": {},
   "outputs": [],
   "source": [
    "expts_22 = pd.read_csv(BASE_PATH+'ExpedientesPublicados2022.xlsx', encoding=\"ISO-8859-1\")"
   ]
  },
  {
   "cell_type": "code",
   "execution_count": null,
   "metadata": {},
   "outputs": [],
   "source": [
    "expts_10['year'] = '2010'\n",
    "expts_11['year'] = '2011'\n",
    "expts_12['year'] = '2012'\n",
    "expts_13['year'] = '2013'\n",
    "expts_14['year'] = '2014'\n",
    "expts_15['year'] = '2015'\n",
    "expts_16['year'] = '2016'\n",
    "expts_17['year'] = '2017'\n",
    "expts_18['year'] = '2018'\n",
    "expts_19['year'] = '2019'\n",
    "expts_20['year'] = '2020'\n",
    "expts_21['year'] = '2021'\n",
    "expts_22['year'] = '2022'"
   ]
  },
  {
   "cell_type": "code",
   "execution_count": 97,
   "metadata": {},
   "outputs": [],
   "source": [
    "expedientes = pd.concat([expts_10,expts_11],ignore_index=True)"
   ]
  },
  {
   "cell_type": "code",
   "execution_count": null,
   "metadata": {},
   "outputs": [],
   "source": [
    "expedientes['VIGENCIA_ANUNCIO'] = pd.to_datetime(expedientes['VIGENCIA_ANUNCIO'], infer_datetime_format=True)"
   ]
  },
  {
   "cell_type": "code",
   "execution_count": 66,
   "metadata": {},
   "outputs": [
    {
     "data": {
      "text/plain": [
       "Index(['CODIGO_EXPEDIENTE', 'NUMERO_PROCEDIMIENTO', 'REFERENCIA_EXPEDIENTE',\n",
       "       'TIPO_EXPEDIENTE', 'DESCRIPCION_EXPEDIENTE', 'DESCRIPCION_ANUNCIO',\n",
       "       'CLAVE_UC', 'UC', 'OPERADOR', 'CORREO', 'ENTIDAD_FEDERATIVA',\n",
       "       'TIPO_CONTRATACION', 'PUBLICACION_ANUNCIO', 'VIGENCIA_ANUNCIO',\n",
       "       'LIGA_ANUNCIO'],\n",
       "      dtype='object')"
      ]
     },
     "execution_count": 66,
     "metadata": {},
     "output_type": "execute_result"
    }
   ],
   "source": [
    "expedientes.keys()"
   ]
  },
  {
   "cell_type": "code",
   "execution_count": 83,
   "metadata": {},
   "outputs": [
    {
     "data": {
      "text/html": [
       "<div>\n",
       "<style scoped>\n",
       "    .dataframe tbody tr th:only-of-type {\n",
       "        vertical-align: middle;\n",
       "    }\n",
       "\n",
       "    .dataframe tbody tr th {\n",
       "        vertical-align: top;\n",
       "    }\n",
       "\n",
       "    .dataframe thead th {\n",
       "        text-align: right;\n",
       "    }\n",
       "</style>\n",
       "<table border=\"1\" class=\"dataframe\">\n",
       "  <thead>\n",
       "    <tr style=\"text-align: right;\">\n",
       "      <th></th>\n",
       "      <th>CODIGO_EXPEDIENTE</th>\n",
       "      <th>NUMERO_PROCEDIMIENTO</th>\n",
       "      <th>REFERENCIA_EXPEDIENTE</th>\n",
       "      <th>TIPO_EXPEDIENTE</th>\n",
       "      <th>DESCRIPCION_EXPEDIENTE</th>\n",
       "      <th>DESCRIPCION_ANUNCIO</th>\n",
       "      <th>CLAVE_UC</th>\n",
       "      <th>UC</th>\n",
       "      <th>OPERADOR</th>\n",
       "      <th>CORREO</th>\n",
       "      <th>ENTIDAD_FEDERATIVA</th>\n",
       "      <th>TIPO_CONTRATACION</th>\n",
       "      <th>PUBLICACION_ANUNCIO</th>\n",
       "      <th>VIGENCIA_ANUNCIO</th>\n",
       "      <th>LIGA_ANUNCIO</th>\n",
       "      <th>tipo_exp</th>\n",
       "    </tr>\n",
       "  </thead>\n",
       "  <tbody>\n",
       "    <tr>\n",
       "      <th>0</th>\n",
       "      <td>348</td>\n",
       "      <td>SA-019HXA001-N1-2010</td>\n",
       "      <td>NaN</td>\n",
       "      <td>Z15122015 12. Adjudicación Directa Nacional Si...</td>\n",
       "      <td>Vales de despensa de fin de año 2010</td>\n",
       "      <td>Contratacion especifica de vales de despensa</td>\n",
       "      <td>007HXA001</td>\n",
       "      <td>ISSFAM-SUBDIRECCIÓN DE RECURSOS MATERIALES. #0...</td>\n",
       "      <td>Nadia Dominguez Martinez</td>\n",
       "      <td>adquisiciones@issfam.gob.mx</td>\n",
       "      <td>No especificado por la UC</td>\n",
       "      <td>No especificado por la UC</td>\n",
       "      <td>NaN</td>\n",
       "      <td>2010-12-03 00:00</td>\n",
       "      <td>https://compranet.funcionpublica.gob.mx/esop/g...</td>\n",
       "      <td>Adjudicación</td>\n",
       "    </tr>\n",
       "    <tr>\n",
       "      <th>1</th>\n",
       "      <td>399</td>\n",
       "      <td>LA-006HHQ001-N4-2010</td>\n",
       "      <td>NaN</td>\n",
       "      <td>sub110525_01. Licitación Pública Nacional LAASSP</td>\n",
       "      <td>Seguros de Vida</td>\n",
       "      <td>Seguros de Vida</td>\n",
       "      <td>006HHQ001</td>\n",
       "      <td>LOTENAL-Gerencia de Recursos Materiales #006HH...</td>\n",
       "      <td>Sara Gabriela Morales Velazquez</td>\n",
       "      <td>smorales@lotenal.gob.mx</td>\n",
       "      <td>No especificado por la UC</td>\n",
       "      <td>No especificado por la UC</td>\n",
       "      <td>NaN</td>\n",
       "      <td>2010-12-15 00:00</td>\n",
       "      <td>https://compranet.funcionpublica.gob.mx/esop/g...</td>\n",
       "      <td>Licitación</td>\n",
       "    </tr>\n",
       "    <tr>\n",
       "      <th>2</th>\n",
       "      <td>409</td>\n",
       "      <td>SA-019GYN006-N1-2010</td>\n",
       "      <td>NaN</td>\n",
       "      <td>Z15122015 12. Adjudicación Directa Nacional Si...</td>\n",
       "      <td>VALES DE DESPENSA</td>\n",
       "      <td>VALES DE DESPENSA 2010</td>\n",
       "      <td>051GYN006</td>\n",
       "      <td>ISSSTE-Jefatura de Servicios de Adquisiciones ...</td>\n",
       "      <td>Fermín Benítez  Girón</td>\n",
       "      <td>user.loked@gmail.com</td>\n",
       "      <td>No especificado por la UC</td>\n",
       "      <td>No especificado por la UC</td>\n",
       "      <td>NaN</td>\n",
       "      <td>2010-12-09 00:00</td>\n",
       "      <td>https://compranet.funcionpublica.gob.mx/esop/g...</td>\n",
       "      <td>Adjudicación</td>\n",
       "    </tr>\n",
       "  </tbody>\n",
       "</table>\n",
       "</div>"
      ],
      "text/plain": [
       "   CODIGO_EXPEDIENTE  NUMERO_PROCEDIMIENTO REFERENCIA_EXPEDIENTE  \\\n",
       "0                348  SA-019HXA001-N1-2010                   NaN   \n",
       "1                399  LA-006HHQ001-N4-2010                   NaN   \n",
       "2                409  SA-019GYN006-N1-2010                   NaN   \n",
       "\n",
       "                                     TIPO_EXPEDIENTE  \\\n",
       "0  Z15122015 12. Adjudicación Directa Nacional Si...   \n",
       "1   sub110525_01. Licitación Pública Nacional LAASSP   \n",
       "2  Z15122015 12. Adjudicación Directa Nacional Si...   \n",
       "\n",
       "                 DESCRIPCION_EXPEDIENTE  \\\n",
       "0  Vales de despensa de fin de año 2010   \n",
       "1                       Seguros de Vida   \n",
       "2                     VALES DE DESPENSA   \n",
       "\n",
       "                            DESCRIPCION_ANUNCIO   CLAVE_UC  \\\n",
       "0  Contratacion especifica de vales de despensa  007HXA001   \n",
       "1                               Seguros de Vida  006HHQ001   \n",
       "2                        VALES DE DESPENSA 2010  051GYN006   \n",
       "\n",
       "                                                  UC  \\\n",
       "0  ISSFAM-SUBDIRECCIÓN DE RECURSOS MATERIALES. #0...   \n",
       "1  LOTENAL-Gerencia de Recursos Materiales #006HH...   \n",
       "2  ISSSTE-Jefatura de Servicios de Adquisiciones ...   \n",
       "\n",
       "                          OPERADOR                       CORREO  \\\n",
       "0         Nadia Dominguez Martinez  adquisiciones@issfam.gob.mx   \n",
       "1  Sara Gabriela Morales Velazquez      smorales@lotenal.gob.mx   \n",
       "2            Fermín Benítez  Girón         user.loked@gmail.com   \n",
       "\n",
       "          ENTIDAD_FEDERATIVA          TIPO_CONTRATACION PUBLICACION_ANUNCIO  \\\n",
       "0  No especificado por la UC  No especificado por la UC                 NaN   \n",
       "1  No especificado por la UC  No especificado por la UC                 NaN   \n",
       "2  No especificado por la UC  No especificado por la UC                 NaN   \n",
       "\n",
       "   VIGENCIA_ANUNCIO                                       LIGA_ANUNCIO  \\\n",
       "0  2010-12-03 00:00  https://compranet.funcionpublica.gob.mx/esop/g...   \n",
       "1  2010-12-15 00:00  https://compranet.funcionpublica.gob.mx/esop/g...   \n",
       "2  2010-12-09 00:00  https://compranet.funcionpublica.gob.mx/esop/g...   \n",
       "\n",
       "       tipo_exp  \n",
       "0  Adjudicación  \n",
       "1    Licitación  \n",
       "2  Adjudicación  "
      ]
     },
     "execution_count": 83,
     "metadata": {},
     "output_type": "execute_result"
    }
   ],
   "source": [
    "expedientes.head(3)"
   ]
  },
  {
   "cell_type": "markdown",
   "metadata": {},
   "source": [
    "## Transformaciones"
   ]
  },
  {
   "cell_type": "markdown",
   "metadata": {},
   "source": [
    "### tipo_exp"
   ]
  },
  {
   "cell_type": "code",
   "execution_count": 77,
   "metadata": {},
   "outputs": [],
   "source": [
    "def clasify_tipo_exp(tipo_exp:str) -> str:\n",
    "    \"\"\"check for keywords in @tipo_exp and return \n",
    "        \"licitacion\", \"adjudicacion\" or \"invitacion\" \n",
    "    \"\"\"\n",
    "    if \"Adjudicación\" in tipo_exp:\n",
    "        return  \"Adjudicación\"\n",
    "\n",
    "    elif \"Licitación\" in tipo_exp:\n",
    "        return \"Licitación\"\n",
    "\n",
    "    elif \"Invitación\" in tipo_exp:\n",
    "        return \"Invitación\"\n",
    "\n",
    "    else:\n",
    "        return \"otros\"\n"
   ]
  },
  {
   "cell_type": "code",
   "execution_count": 98,
   "metadata": {},
   "outputs": [
    {
     "data": {
      "text/plain": [
       "Adjudicación    27568\n",
       "Licitación      21276\n",
       "Invitación      12995\n",
       "otros             161\n",
       "Name: TIPO_EXPEDIENTE, dtype: int64"
      ]
     },
     "execution_count": 98,
     "metadata": {},
     "output_type": "execute_result"
    }
   ],
   "source": [
    "expedientes['TIPO_EXPEDIENTE'].apply(clasify_tipo_exp).value_counts()"
   ]
  },
  {
   "cell_type": "code",
   "execution_count": 99,
   "metadata": {},
   "outputs": [],
   "source": [
    "expedientes['tipo_exp'] = expedientes['TIPO_EXPEDIENTE'].apply(clasify_tipo_exp)"
   ]
  },
  {
   "cell_type": "markdown",
   "metadata": {},
   "source": [
    "### Unidad compradora"
   ]
  },
  {
   "cell_type": "code",
   "execution_count": 115,
   "metadata": {},
   "outputs": [],
   "source": [
    "expedientes['siglas_uc'] = expedientes['UC'].apply(lambda uc : uc.split(\"-\")[0])"
   ]
  },
  {
   "cell_type": "code",
   "execution_count": 121,
   "metadata": {},
   "outputs": [
    {
     "data": {
      "text/plain": [
       "CFE           19123\n",
       "IMSS           4698\n",
       "SCT            2658\n",
       "CONAGUA        1588\n",
       "BANJERCITO     1315\n",
       "              ...  \n",
       "UPCP              1\n",
       "COLMICH           1\n",
       "RAN               1\n",
       "CIMAT             1\n",
       "CONUEE            1\n",
       "Name: siglas_uc, Length: 247, dtype: int64"
      ]
     },
     "execution_count": 121,
     "metadata": {},
     "output_type": "execute_result"
    }
   ],
   "source": [
    "expedientes['siglas_uc'].value_counts()"
   ]
  },
  {
   "cell_type": "markdown",
   "metadata": {},
   "source": [
    "## Graficas "
   ]
  },
  {
   "cell_type": "code",
   "execution_count": 139,
   "metadata": {},
   "outputs": [
    {
     "data": {
      "image/png": "[encoded data removed]",
      "text/plain": [
       "<Figure size 1200x600 with 1 Axes>"
      ]
     },
     "metadata": {},
     "output_type": "display_data"
    }
   ],
   "source": [
    "plt.figure(figsize=(12,6))\n",
    "sns.countplot(x='siglas_uc',data=expedientes,order=pd.value_counts(expedientes['siglas_uc']).iloc[:10].index)\n",
    "plt.show()"
   ]
  },
  {
   "cell_type": "code",
   "execution_count": 140,
   "metadata": {},
   "outputs": [
    {
     "data": {
      "image/png": "[encoded data removed]",
      "text/plain": [
       "<Figure size 1200x600 with 1 Axes>"
      ]
     },
     "metadata": {},
     "output_type": "display_data"
    }
   ],
   "source": [
    "plt.figure(figsize=(12,6))\n",
    "sns.countplot(x='siglas_uc',data=expedientes,order=pd.value_counts(expedientes['siglas_uc']).iloc[:10].index, hue='year')\n",
    "plt.show()"
   ]
  },
  {
   "cell_type": "code",
   "execution_count": 100,
   "metadata": {},
   "outputs": [
    {
     "data": {
      "image/png": "[encoded data removed]",
      "text/plain": [
       "<Figure size 500x500 with 1 Axes>"
      ]
     },
     "metadata": {},
     "output_type": "display_data"
    }
   ],
   "source": [
    "sns.displot(data=expedientes, x='tipo_exp')\n",
    "plt.show()"
   ]
  },
  {
   "cell_type": "code",
   "execution_count": 122,
   "metadata": {},
   "outputs": [
    {
     "data": {
      "image/png": "[encoded data removed]",
      "text/plain": [
       "<Figure size 640x480 with 1 Axes>"
      ]
     },
     "metadata": {},
     "output_type": "display_data"
    }
   ],
   "source": [
    "sns.countplot(data=expedientes, x='year',hue='tipo_exp')\n",
    "plt.show()"
   ]
  },
  {
   "cell_type": "markdown",
   "metadata": {},
   "source": [
    "## Graficas individuales"
   ]
  }
 ],
 "metadata": {
  "kernelspec": {
   "display_name": "Python 3.9.0 ('env': venv)",
   "language": "python",
   "name": "python3"
  },
  "language_info": {
   "codemirror_mode": {
    "name": "ipython",
    "version": 3
   },
   "file_extension": ".py",
   "mimetype": "text/x-python",
   "name": "python",
   "nbconvert_exporter": "python",
   "pygments_lexer": "ipython3",
   "version": "3.9.0"
  },
  "orig_nbformat": 4,
  "vscode": {
   "interpreter": {
    "hash": "b168b5ae5565e29fb01afdf20d1e3150f525a48ac109e14fa624bd7a842a56df"
   }
  }
 },
 "nbformat": 4,
 "nbformat_minor": 2
}
